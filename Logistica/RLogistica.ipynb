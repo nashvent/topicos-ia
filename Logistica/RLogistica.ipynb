{
 "cells": [
  {
   "cell_type": "code",
   "execution_count": 351,
   "metadata": {},
   "outputs": [],
   "source": [
    "# Regresion logistica\n",
    "import pandas as pd\n",
    "import numpy as np\n",
    "import math\n",
    "import matplotlib.pyplot as plt\n",
    "\n",
    "\n",
    "test = pd.read_csv('test.csv')\n",
    "train = pd.read_csv('train.csv')\n",
    "#x_train = train.iloc[:,0]\n",
    "x_ones = np.ones((train.shape[0],1))\n",
    "x_train = np.ones((train.shape[0],train.shape[1]))\n",
    "x_train[:,0]=np.ones((train.shape[0],1))[:,0]\n",
    "x_train[:,1]=train.iloc[:,0]\n",
    "x_train[:,2]=train.iloc[:,1]\n",
    "y_train = np.ones((train.shape[0],1))\n",
    "y_train = train.iloc[:,2]\n",
    "\n",
    "x_test = np.ones((test.shape[0],test.shape[1]))\n",
    "x_test[:,1]=test.iloc[:,0]\n",
    "x_test[:,2]=test.iloc[:,1]\n",
    "y_test = np.ones((train.shape[0],1))\n",
    "y_test = test.iloc[:,2]\n",
    "\n",
    "\n"
   ]
  },
  {
   "cell_type": "code",
   "execution_count": 352,
   "metadata": {},
   "outputs": [],
   "source": [
    "def normalizar(datos):\n",
    "    if(datos.ndim==1):\n",
    "        return (datos - datos.min()) / (datos.max() - datos.min())\n",
    "    else:\n",
    "    \n",
    "        ndatos=np.zeros ((datos.shape[0],datos.shape[1]))\n",
    "        for a in range(datos.shape[1]):\n",
    "            if(datos[:,a].min()<datos[:,a].max()):\n",
    "                col=(datos[:,a] - datos[:,a].min()) / (datos[:,a].max() - datos[:,a].min())\n",
    "            else:\n",
    "                col=datos[:,a]\n",
    "            ndatos[:,a]=col\n",
    "        return ndatos"
   ]
  },
  {
   "cell_type": "code",
   "execution_count": 353,
   "metadata": {},
   "outputs": [],
   "source": [
    "def partir(x,y):\n",
    "    g1=[]\n",
    "    g2=[]\n",
    "    for i in range(y.shape[0]):\n",
    "        if(y[i]==0):\n",
    "            g1.append([x[i,0],x[i,1]])\n",
    "        else:\n",
    "            g2.append([x[i,0],x[i,1]])\n",
    "    return g1,g2\n"
   ]
  },
  {
   "cell_type": "code",
   "execution_count": 354,
   "metadata": {},
   "outputs": [
    {
     "data": {
      "text/plain": [
       "Text(0, 0.5, '$y$')"
      ]
     },
     "execution_count": 354,
     "metadata": {},
     "output_type": "execute_result"
    },
    {
     "data": {
      "image/png": "[encoded data removed]",
      "text/plain": [
       "<Figure size 432x288 with 1 Axes>"
      ]
     },
     "metadata": {
      "needs_background": "light"
     },
     "output_type": "display_data"
    }
   ],
   "source": [
    "grafica=plt.plot(x_train[:28,1],x_train[:28,2],'r.')\n",
    "grafica=plt.plot(x_train[28:,1],x_train[28:,2],'b.')\n",
    "#grafica=plt.plot([30,40,50],[30,40,50],'r.')\n",
    "\n",
    "plt.xlabel(\"$x$\", fontsize=18)\n",
    "plt.ylabel(\"$y$\", rotation=0, fontsize=18)\n"
   ]
  },
  {
   "cell_type": "code",
   "execution_count": 355,
   "metadata": {},
   "outputs": [
    {
     "data": {
      "text/plain": [
       "array([[-12.72298071],\n",
       "       [ 14.41121523],\n",
       "       [ 12.99177965]])"
      ]
     },
     "execution_count": 355,
     "metadata": {},
     "output_type": "execute_result"
    }
   ],
   "source": [
    "def sigmoid(x):\n",
    "    return 1.0/(1 + np.exp(-x))\n",
    "\n",
    "def hipotesis(theta, x):\n",
    "    return sigmoid(np.dot(x, theta))\n",
    "\n",
    "def cal_cost(theta,x,y):\n",
    "    m = x.shape[0]    \n",
    "    h = hipotesis(theta, x)\n",
    "    pri = np.matmul(y.T, (np.log(h))[:,0] )\n",
    "    seg = np.matmul((1 - y).T, (np.log(1 - h))[:,0]  )   \n",
    "    return -(1/m) * np.sum(pri + seg)\n",
    "\n",
    "def gradiente(x,y,theta,alpha,itera):\n",
    "    m = x.shape[0]\n",
    "    cost_h = np.zeros(itera)\n",
    "    theta_h = np.zeros ((itera,x.shape[1]))\n",
    "    for ite in range(itera):\n",
    "        h = hipotesis(theta, x)\n",
    "        theta[:,0] = theta[:,0] - (alpha) * (x.T.dot(h[:,0]-y))\n",
    "        theta_h[ite,:] = theta.T\n",
    "        cost_h[ite] = cal_cost(theta,x,y)\n",
    "    return theta,theta_h,cost_h\n",
    "\n",
    "\n",
    "iteraciones = 1000\n",
    "alph = 0.1\n",
    "theta = np.random.randn (3,1)\n",
    "x_train=normalizar(x_train)\n",
    "#cal_cost(theta,x_train,y_train)\n",
    "theta,theta_h,cost_h=gradiente(x_train,y_train,theta,alph,iteraciones)\n",
    "theta\n",
    "#print(theta)"
   ]
  },
  {
   "cell_type": "code",
   "execution_count": 356,
   "metadata": {},
   "outputs": [
    {
     "data": {
      "image/png": "[encoded data removed]",
      "text/plain": [
       "<Figure size 432x288 with 1 Axes>"
      ]
     },
     "metadata": {
      "needs_background": "light"
     },
     "output_type": "display_data"
    }
   ],
   "source": [
    "grafica=plt.plot(np.arange(cost_h.shape[0]),cost_h,'b.')"
   ]
  },
  {
   "cell_type": "code",
   "execution_count": 357,
   "metadata": {},
   "outputs": [
    {
     "data": {
      "text/plain": [
       "[<matplotlib.lines.Line2D at 0x7ff750398908>]"
      ]
     },
     "execution_count": 357,
     "metadata": {},
     "output_type": "execute_result"
    },
    {
     "data": {
      "image/png": "[encoded data removed]",
      "text/plain": [
       "<Figure size 432x288 with 1 Axes>"
      ]
     },
     "metadata": {
      "needs_background": "light"
     },
     "output_type": "display_data"
    }
   ],
   "source": [
    "grafica=plt.plot(x_train[:28,1],x_train[:28,2],'r.')\n",
    "grafica=plt.plot(x_train[28:,1],x_train[28:,2],'b.')\n",
    "#grafica=plt.plot([30,40,50],[30,40,50],'r.')\n",
    "\n",
    "plt.xlabel(\"$x$\", fontsize=18)\n",
    "plt.ylabel(\"$y$\", rotation=0, fontsize=18)\n",
    "\n",
    "\n",
    "def getx(theta,x1):\n",
    "    x2 = []\n",
    "    for i in range(len(x1)):\n",
    "        x2.append( -(theta[0,0]+ (theta[1,0]*x1[i]) )/theta[2,0])\n",
    "    return x2\n",
    "\n",
    "\n",
    "x_line=np.linspace(0, 1, num=x_train.shape[0])\n",
    "getx(theta,x_line)\n",
    "#hipo=hipotesis(theta,x_train)\n",
    "#hipo\n",
    "plt.plot(x_line,getx(theta,x_line), linestyle='solid')"
   ]
  }
 ],
 "metadata": {
  "kernelspec": {
   "display_name": "Python 3",
   "language": "python",
   "name": "python3"
  },
  "language_info": {
   "codemirror_mode": {
    "name": "ipython",
    "version": 3
   },
   "file_extension": ".py",
   "mimetype": "text/x-python",
   "name": "python",
   "nbconvert_exporter": "python",
   "pygments_lexer": "ipython3",
   "version": "3.5.3"
  }
 },
 "nbformat": 4,
 "nbformat_minor": 2
}
