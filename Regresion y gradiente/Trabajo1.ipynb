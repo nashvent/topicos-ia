{
 "cells": [
  {
   "cell_type": "code",
   "execution_count": 1,
   "metadata": {},
   "outputs": [],
   "source": [
    "import pandas as pd\n",
    "import numpy as np\n",
    "import matplotlib.pyplot as plt"
   ]
  },
  {
   "cell_type": "code",
   "execution_count": 2,
   "metadata": {},
   "outputs": [],
   "source": [
    "def normalizar(datos):\n",
    "    if(datos.ndim==1):\n",
    "        return (datos - datos.min()) / (datos.max() - datos.min())\n",
    "    else:\n",
    "    \n",
    "        ndatos=np.zeros ((datos.shape[0],datos.shape[1]))\n",
    "        for a in range(datos.shape[1]):\n",
    "            if(datos[:,a].min()<datos[:,a].max()):\n",
    "                col=(datos[:,a] - datos[:,a].min()) / (datos[:,a].max() - datos[:,a].min())\n",
    "            else:\n",
    "                col=datos[:,a]\n",
    "            ndatos[:,a]=col\n",
    "        return ndatos"
   ]
  },
  {
   "cell_type": "code",
   "execution_count": 12,
   "metadata": {},
   "outputs": [
    {
     "name": "stdout",
     "output_type": "stream",
     "text": [
      "68\n"
     ]
    },
    {
     "data": {
      "image/png": "[encoded data removed]",
      "text/plain": [
       "<Figure size 432x288 with 1 Axes>"
      ]
     },
     "metadata": {
      "needs_background": "light"
     },
     "output_type": "display_data"
    }
   ],
   "source": [
    "x_train = pd.read_csv('train_ex1data1.csv')\n",
    "y_train = pd.read_csv('y_train_ex1data1.csv')\n",
    "x_test = pd.read_csv('test_ex1data1.csv')\n",
    "y_test = pd.read_csv('y_test_ex1data1.csv')\n",
    "\n",
    "x_train = x_train.iloc[:,:]\n",
    "y_train = y_train.iloc[:,0]\n",
    "x_test = x_test.iloc[:,:]\n",
    "y_test = y_test.iloc[:,0]\n",
    "m1 = np.ones((x_train.shape[0],1))\n",
    "m2 = np.ones((x_test.shape[0],1))\n",
    "\n",
    "\n",
    "\n",
    "grafica=plt.plot(x_train,y_train,'b.')\n",
    "plt.xlabel(\"$x$\", fontsize=18)\n",
    "plt.ylabel(\"$y$\", rotation=0, fontsize=18)\n",
    "\n",
    "x_train=np.concatenate(( m1,x_train), axis=1)\n",
    "x_test=np.concatenate(( m2,x_test), axis=1)"
   ]
  },
  {
   "cell_type": "code",
   "execution_count": 5,
   "metadata": {},
   "outputs": [],
   "source": [
    "#Normalizar\n",
    "x_train = normalizar(x_train)\n",
    "y_train = normalizar(y_train)"
   ]
  },
  {
   "cell_type": "code",
   "execution_count": 6,
   "metadata": {},
   "outputs": [
    {
     "name": "stdout",
     "output_type": "stream",
     "text": [
      "[0.13364969 0.79353276]\n"
     ]
    }
   ],
   "source": [
    "\n",
    "x_train_t = x_train.transpose()\n",
    "# (x^t * x) \n",
    "p1 = np.dot(x_train_t,x_train)\n",
    "# p1 inversa\n",
    "p11 = np.linalg.inv(p1)\n",
    "# p11 * x^t\n",
    "p2 = np.dot(p11,x_train_t)\n",
    "# p2 * y_train\n",
    "p3 = np.dot(p2,y_train)\n",
    "theta = p3\n",
    "# NROMALIZADO\n",
    "print(theta)"
   ]
  },
  {
   "cell_type": "code",
   "execution_count": 12,
   "metadata": {},
   "outputs": [
    {
     "name": "stdout",
     "output_type": "stream",
     "text": [
      "[[0.13715879]\n",
      " [0.77335939]]\n"
     ]
    }
   ],
   "source": [
    "\n",
    "def cal_cost(theta,x,y):\n",
    "    m = x.shape[0]\n",
    "    pred = x.dot(theta)\n",
    "    cost = (1/2*m)* np.sum(np.square(pred[:,0]-y))  \n",
    "    return cost\n",
    "\n",
    "\n",
    "def gradiente(x,y,theta,alpha,itera):\n",
    "    m = x.shape[0]\n",
    "    cost_h = np.zeros(itera)\n",
    "    theta_h = np.zeros ((itera,x.shape[1]))\n",
    "    for ite in range(itera):\n",
    "        pred = x.dot(theta)\n",
    "        theta[:,0] = theta[:,0] - ((1/m) * alpha) * (x.T.dot(pred[:,0]-y))\n",
    "        theta_h[ite,:] = theta.T\n",
    "        cost_h[ite] = cal_cost(theta,x,y)\n",
    "        \n",
    "    return theta,theta_h,cost_h\n",
    "\n",
    "\n",
    "iteraciones = 1000\n",
    "alph = 0.1\n",
    "theta = np.random.randn (2,1)\n",
    "\n",
    "theta,theta_h,cost_h=gradiente(x_train,y_train,theta,alph,iteraciones)\n",
    "print(theta)"
   ]
  },
  {
   "cell_type": "code",
   "execution_count": 34,
   "metadata": {},
   "outputs": [
    {
     "name": "stdout",
     "output_type": "stream",
     "text": [
      "[0 1 2 3 4]\n"
     ]
    },
    {
     "data": {
      "image/png": "[encoded data removed]",
      "text/plain": [
       "<Figure size 432x288 with 1 Axes>"
      ]
     },
     "metadata": {
      "needs_background": "light"
     },
     "output_type": "display_data"
    }
   ],
   "source": [
    "#def fn(dato):\n",
    "#    return dato*2\n",
    "#x = np.array([(100, 2),(2,123),(23,1)])\n",
    "#vf = np.vectorize(fn)\n",
    "#print(vf(x))\n",
    "#np.arange(5)\n",
    "\n",
    "grafica=plt.plot(np.arange(cost_h.shape[0]),cost_h,'b.')\n",
    "\n",
    "print (a)"
   ]
  }
 ],
 "metadata": {
  "kernelspec": {
   "display_name": "Python 3",
   "language": "python",
   "name": "python3"
  },
  "language_info": {
   "codemirror_mode": {
    "name": "ipython",
    "version": 3
   },
   "file_extension": ".py",
   "mimetype": "text/x-python",
   "name": "python",
   "nbconvert_exporter": "python",
   "pygments_lexer": "ipython3",
   "version": "3.5.3"
  }
 },
 "nbformat": 4,
 "nbformat_minor": 2
}
