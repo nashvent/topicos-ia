{
 "cells": [
  {
   "cell_type": "code",
   "execution_count": 14,
   "metadata": {},
   "outputs": [],
   "source": [
    "import pandas as pd\n",
    "import numpy as np"
   ]
  },
  {
   "cell_type": "code",
   "execution_count": 69,
   "metadata": {},
   "outputs": [],
   "source": [
    "x_train = pd.read_csv('train_ex1data1.csv')\n",
    "y_train = pd.read_csv('y_train_ex1data1.csv')\n",
    "x_test = pd.read_csv('test_ex1data1.csv')\n",
    "y_test = pd.read_csv('y_test_ex1data1.csv')\n",
    "\n",
    "x_train = x_train.iloc[:,:]\n",
    "y_train = y_train.iloc[:,0]\n",
    "x_test = x_test.iloc[:,:]\n",
    "y_test = y_test.iloc[:,0]\n",
    "m1 = np.ones((x_train.size,1))\n",
    "m2 = np.ones((x_test.size,1))\n",
    "x_train=np.concatenate(( m1,x_train), axis=1)\n",
    "x_test=np.concatenate(( m2,x_test), axis=1)"
   ]
  },
  {
   "cell_type": "code",
   "execution_count": 51,
   "metadata": {},
   "outputs": [
    {
     "name": "stdout",
     "output_type": "stream",
     "text": [
      "0     17.59200\n",
      "1      9.13020\n",
      "2     13.66200\n",
      "3     11.85400\n",
      "4      6.82330\n",
      "5     11.88600\n",
      "6      3.25220\n",
      "7      3.15510\n",
      "8      7.22580\n",
      "9      0.71618\n",
      "10     5.30480\n",
      "11     0.56077\n",
      "12     3.13860\n",
      "13     5.18750\n",
      "14     3.08250\n",
      "15    22.63800\n",
      "16    13.50100\n",
      "17     7.04670\n",
      "18    24.14700\n",
      "19    -1.22000\n",
      "20     5.99660\n",
      "21     1.84950\n",
      "22     6.54260\n",
      "23     4.56230\n",
      "24     4.11640\n",
      "25     3.39280\n",
      "26    10.11700\n",
      "27     5.49740\n",
      "28     0.55657\n",
      "29     3.91150\n",
      "        ...   \n",
      "38    -1.42110\n",
      "39     2.47560\n",
      "40     4.60420\n",
      "41     5.41410\n",
      "42    -0.74279\n",
      "43    17.92900\n",
      "44    12.05400\n",
      "45    17.05400\n",
      "46     4.88520\n",
      "47     5.74420\n",
      "48     7.77540\n",
      "49     1.01730\n",
      "50     4.02590\n",
      "51     1.27840\n",
      "52     3.34110\n",
      "53     3.88450\n",
      "54     6.75260\n",
      "55     2.05760\n",
      "56     0.20421\n",
      "57     0.67861\n",
      "58     5.34360\n",
      "59     4.24150\n",
      "60     6.79810\n",
      "61     0.92695\n",
      "62     0.15200\n",
      "63     2.82140\n",
      "64     1.84510\n",
      "65     4.29590\n",
      "66     1.98690\n",
      "67     0.14454\n",
      "Name: Rentabilidad_Ciudad(Miles), Length: 68, dtype: float64\n"
     ]
    }
   ],
   "source": [
    "print(y_train)"
   ]
  },
  {
   "cell_type": "code",
   "execution_count": 70,
   "metadata": {},
   "outputs": [
    {
     "name": "stdout",
     "output_type": "stream",
     "text": [
      "[-3.99163517  1.183481  ]\n"
     ]
    }
   ],
   "source": [
    "x_train_t = x_train.transpose()\n",
    "# (x^t * x) \n",
    "p1 = np.dot(x_train_t,x_train)\n",
    "# p1 inversa\n",
    "p11 = np.linalg.inv(p1)\n",
    "# p11 * x^t\n",
    "p2 = np.dot(p11,x_train_t)\n",
    "# p2 * y_train\n",
    "p3 = np.dot(p2,y_train)\n",
    "theta = p3\n",
    "# FALTA NORMALIZAAAAAAAAAR\n",
    "print(theta)"
   ]
  },
  {
   "cell_type": "code",
   "execution_count": null,
   "metadata": {},
   "outputs": [],
   "source": []
  }
 ],
 "metadata": {
  "kernelspec": {
   "display_name": "Python 3",
   "language": "python",
   "name": "python3"
  },
  "language_info": {
   "codemirror_mode": {
    "name": "ipython",
    "version": 3
   },
   "file_extension": ".py",
   "mimetype": "text/x-python",
   "name": "python",
   "nbconvert_exporter": "python",
   "pygments_lexer": "ipython3",
   "version": "3.7.1"
  }
 },
 "nbformat": 4,
 "nbformat_minor": 2
}
