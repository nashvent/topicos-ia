{
 "cells": [
  {
   "cell_type": "code",
   "execution_count": 1,
   "metadata": {},
   "outputs": [],
   "source": [
    "import os\n",
    "import cv2\n",
    "import numpy as np"
   ]
  },
  {
   "cell_type": "code",
   "execution_count": 2,
   "metadata": {},
   "outputs": [],
   "source": [
    "# Define paths\n",
    "base_dir = './'\n",
    "prototxt_path = os.path.join(base_dir + 'model_data/deploy.prototxt')\n",
    "caffemodel_path = os.path.join(base_dir + 'model_data/weights.caffemodel')\n",
    "\n",
    "#working directory\n",
    "dir_name = 'pruebas'\n",
    "\n",
    "raw_images_dir = os.path.join(base_dir + 'dataset/' + dir_name)\n",
    "extracted_faces_dir = os.path.join(base_dir + 'dataset/new_' + dir_name)\n",
    "\n",
    "# Read the model\n",
    "model = cv2.dnn.readNetFromCaffe(prototxt_path, caffemodel_path)\n",
    "\n",
    "# Create directory 'faces' if it does not exist\n",
    "if not os.path.exists(extracted_faces_dir):\n",
    "    print(\"New directory created\")\n",
    "    os.makedirs(extracted_faces_dir)"
   ]
  },
  {
   "cell_type": "code",
   "execution_count": 3,
   "metadata": {},
   "outputs": [
    {
     "name": "stdout",
     "output_type": "stream",
     "text": [
      "Extracted 5 faces from all images\n",
      "3 archivos\n"
     ]
    }
   ],
   "source": [
    "#Loop through all images and strip out faces\n",
    "count = 0\n",
    "iter=0\n",
    "for file in os.listdir(raw_images_dir):\n",
    "    file_name, file_extension = os.path.splitext(file)\n",
    "    if (file_extension in ['.png','.jpg', '.JPG', '.PNG']):\n",
    "        iter+=1\n",
    "        image = cv2.imread(raw_images_dir + '/' + file)\n",
    "\n",
    "        (h, w) = image.shape[:2]\n",
    "        blob = cv2.dnn.blobFromImage(cv2.resize(image, (300, 300)), 1.0, (300, 300), (104.0, 177.0, 123.0))\n",
    "\n",
    "        model.setInput(blob)\n",
    "        detections = model.forward()\n",
    "\n",
    "        # Identify each face\n",
    "        for i in range(0, detections.shape[2]):\n",
    "            box = detections[0, 0, i, 3:7] * np.array([w, h, w, h])\n",
    "            (startX, startY, endX, endY) = box.astype(\"int\")\n",
    "\n",
    "            confidence = detections[0, 0, i, 2]\n",
    "\n",
    "            # If confidence > 0.5, save it as a separate file\n",
    "            if (confidence > 0.5):\n",
    "                count += 1\n",
    "                frame = image[startY:endY, startX:endX]\n",
    "                cv2.imwrite(extracted_faces_dir + '/' + str(i) + '_' + file, frame)\n",
    "\n",
    "print(\"Extracted \" + str(count) + \" faces from all images\")\n",
    "print(str(iter) + ' archivos' )"
   ]
  }
 ],
 "metadata": {
  "kernelspec": {
   "display_name": "Python 3",
   "language": "python",
   "name": "python3"
  },
  "language_info": {
   "codemirror_mode": {
    "name": "ipython",
    "version": 3
   },
   "file_extension": ".py",
   "mimetype": "text/x-python",
   "name": "python",
   "nbconvert_exporter": "python",
   "pygments_lexer": "ipython3",
   "version": "3.7.1"
  }
 },
 "nbformat": 4,
 "nbformat_minor": 2
}
